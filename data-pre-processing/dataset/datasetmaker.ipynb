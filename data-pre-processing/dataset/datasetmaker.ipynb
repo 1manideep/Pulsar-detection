{
 "cells": [
  {
   "cell_type": "code",
   "execution_count": 2,
   "id": "93e64063",
   "metadata": {},
   "outputs": [
    {
     "name": "stdout",
     "output_type": "stream",
     "text": [
      "Enter label for cat.4023.jpg: 0\n",
      "Enter label for cat.4022.jpg: 0\n",
      "Enter label for dog.4172.jpg: 1\n",
      "Enter label for cat.4008.jpg: 0\n",
      "Enter label for cat.4034.jpg: 0\n",
      "Enter label for cat.4020.jpg: 0\n",
      "Enter label for cat.4021.jpg: 0\n",
      "Enter label for cat.4009.jpg: 0\n",
      "Enter label for dog.4173.jpg: 1\n",
      "Enter label for dog.4177.jpg: 1\n",
      "Enter label for dog.4188.jpg: 1\n",
      "Enter label for cat.4031.jpg: 0\n",
      "Enter label for cat.4025.jpg: 0\n",
      "Enter label for cat.4019.jpg: 0\n",
      "Could not read image: .DS_Store\n",
      "Enter label for cat.4018.jpg: 0\n",
      "Enter label for cat.4024.jpg: 0\n",
      "Enter label for cat.4030.jpg: 0\n",
      "Enter label for dog.4189.jpg: 1\n",
      "Enter label for dog.4176.jpg: 1\n",
      "Enter label for dog.4174.jpg: 1\n",
      "Enter label for cat.4026.jpg: 0\n",
      "Enter label for cat.4032.jpg: 0\n",
      "Enter label for cat.4033.jpg: 0\n",
      "Enter label for cat.4027.jpg: 0\n",
      "Enter label for dog.4175.jpg: 1\n",
      "Enter label for dog.4178.jpg: 1\n",
      "Enter label for dog.4187.jpg: 1\n",
      "Enter label for cat.4016.jpg: 0\n",
      "Enter label for cat.4017.jpg: 0\n",
      "Enter label for dog.4186.jpg: 1\n",
      "Enter label for dog.4192.jpg: 1\n",
      "Enter label for dog.4179.jpg: 1\n",
      "Enter label for dog.4184.jpg: 1\n",
      "Enter label for dog.4190.jpg: 1\n",
      "Enter label for cat.4029.jpg: 0\n",
      "Enter label for cat.4015.jpg: 0\n",
      "Enter label for cat.4014.jpg: 1\n",
      "Enter label for cat.4028.jpg: 0\n",
      "Enter label for dog.4191.jpg: 1\n",
      "Enter label for dog.4185.jpg: 1\n",
      "Enter label for dog.4181.jpg: 1\n",
      "Enter label for cat.4010.jpg: 0\n",
      "Enter label for cat.4011.jpg: 0\n",
      "Enter label for dog.4180.jpg: 1\n",
      "Enter label for dog.4182.jpg: 1\n",
      "Enter label for cat.4007.jpg: 0\n",
      "Enter label for cat.4013.jpg: 0\n",
      "Enter label for cat.4012.jpg: 0\n",
      "Enter label for dog.4183.jpg: 1\n"
     ]
    }
   ],
   "source": [
    "import cv2\n",
    "import json\n",
    "import os\n",
    "\n",
    "# specify the directory you want to list files from\n",
    "directory = '/Users/manideep/Desktop/cat-dog/'\n",
    "\n",
    "# use os.listdir to get the list of files\n",
    "files = os.listdir(directory)\n",
    "\n",
    "labels = []\n",
    "for file in files:\n",
    "    # construct full file path\n",
    "    file_path = os.path.join(directory, file)\n",
    "    \n",
    "    # read the image\n",
    "    img = cv2.imread(file_path)\n",
    "\n",
    "    # check if the image is loaded properly\n",
    "    if img is None:\n",
    "        print(f\"Could not read image: {file}\")\n",
    "        continue\n",
    "\n",
    "    # display the image\n",
    "    cv2.imshow('image', img)\n",
    "    cv2.waitKey(1000)\n",
    "    cv2.destroyAllWindows()\n",
    "    \n",
    "    # ask the user for the label\n",
    "    label = input(f\"Enter label for {file}: \")\n",
    "    \n",
    "    # store the file name and label in the labels list\n",
    "    labels.append({\"image_id\": file, \"label\": label})\n",
    "\n",
    "# write the labels to a JSON file\n",
    "with open('/Users/manideep/Desktop/labels.json', 'w') as f:\n",
    "    json.dump(labels, f)"
   ]
  },
  {
   "cell_type": "code",
   "execution_count": 2,
   "id": "03db6c15",
   "metadata": {},
   "outputs": [
    {
     "name": "stdout",
     "output_type": "stream",
     "text": [
      "Requirement already satisfied: opencv-python in ./miniforge/bin/activate/envs/myenv/lib/python3.8/site-packages (4.8.1.78)\n",
      "Requirement already satisfied: numpy>=1.17.3 in ./miniforge/bin/activate/envs/myenv/lib/python3.8/site-packages (from opencv-python) (1.22.3)\n",
      "Note: you may need to restart the kernel to use updated packages.\n"
     ]
    }
   ],
   "source": [
    "pip install opencv-python"
   ]
  },
  {
   "cell_type": "code",
   "execution_count": null,
   "id": "28198028",
   "metadata": {},
   "outputs": [],
   "source": []
  }
 ],
 "metadata": {
  "kernelspec": {
   "display_name": "Python 3 (ipykernel)",
   "language": "python",
   "name": "python3"
  },
  "language_info": {
   "codemirror_mode": {
    "name": "ipython",
    "version": 3
   },
   "file_extension": ".py",
   "mimetype": "text/x-python",
   "name": "python",
   "nbconvert_exporter": "python",
   "pygments_lexer": "ipython3",
   "version": "3.8.16"
  }
 },
 "nbformat": 4,
 "nbformat_minor": 5
}
